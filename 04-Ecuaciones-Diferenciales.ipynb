{
 "cells": [
  {
   "cell_type": "markdown",
   "id": "30e90c0e",
   "metadata": {},
   "source": [
    "Resolver EDO \n",
    "y´=x/(x+2)*y "
   ]
  },
  {
   "cell_type": "code",
   "execution_count": 12,
   "id": "04c253e4",
   "metadata": {},
   "outputs": [
    {
     "data": {
      "text/plain": [
       "array([0., 0., 0., 0.])"
      ]
     },
     "execution_count": 12,
     "metadata": {},
     "output_type": "execute_result"
    }
   ],
   "source": [
    "np.zeros(4)"
   ]
  },
  {
   "cell_type": "code",
   "execution_count": 17,
   "id": "e4aa5404",
   "metadata": {},
   "outputs": [
    {
     "data": {
      "text/plain": [
       "array([[1., 1., 1.],\n",
       "       [1., 1., 1.],\n",
       "       [1., 1., 1.]])"
      ]
     },
     "execution_count": 17,
     "metadata": {},
     "output_type": "execute_result"
    }
   ],
   "source": [
    "np.ones((3,3))"
   ]
  },
  {
   "cell_type": "code",
   "execution_count": 19,
   "id": "a3825b52",
   "metadata": {},
   "outputs": [
    {
     "data": {
      "text/plain": [
       "(50,)"
      ]
     },
     "execution_count": 19,
     "metadata": {},
     "output_type": "execute_result"
    }
   ],
   "source": [
    "x = np.linspace(0,3.5,50)\n",
    "y = np.zeros(x.shape)\n"
   ]
  },
  {
   "cell_type": "code",
   "execution_count": 22,
   "id": "b1abdc27",
   "metadata": {},
   "outputs": [
    {
     "name": "stdout",
     "output_type": "stream",
     "text": [
      "0 a\n",
      "1 b\n",
      "2 c\n",
      "3 d\n"
     ]
    }
   ],
   "source": [
    "L=['a','b','c','d']\n",
    "for i in range(0,len(L)):\n",
    "    print(i,L[i])"
   ]
  },
  {
   "cell_type": "code",
   "execution_count": 26,
   "id": "7a100a57",
   "metadata": {},
   "outputs": [
    {
     "name": "stdout",
     "output_type": "stream",
     "text": [
      "0 a\n",
      "1 b\n",
      "2 c\n",
      "3 d\n"
     ]
    }
   ],
   "source": [
    "for i,val in enumerate(L):\n",
    "    print(i,val)"
   ]
  },
  {
   "cell_type": "code",
   "execution_count": 29,
   "id": "8b44beb0",
   "metadata": {},
   "outputs": [
    {
     "name": "stdout",
     "output_type": "stream",
     "text": [
      "Array sin modificaciones[0. 0. 0. 0. 0.]\n",
      "Valor del array en posicion 0,[0. 0. 0. 0. 0.]\n",
      "Valor del array en posicion 1,[0.  0.5 0.  0.  0. ]\n",
      "Valor del array en posicion 2,[0.  0.5 1.  0.  0. ]\n",
      "Valor del array en posicion 3,[0.  0.5 1.  1.5 0. ]\n",
      "Valor del array en posicion 4,[0.  0.5 1.  1.5 2. ]\n",
      "Array modificado[0.  0.5 1.  1.5 2. ]\n"
     ]
    }
   ],
   "source": [
    "arr=np.linspace(0,1,5)\n",
    "new_arr=np.zeros(arr.shape)\n",
    "print(f'Array sin modificaciones{new_arr}')\n",
    "for i, val in enumerate(arr):\n",
    "    new_arr[i]=val*2\n",
    "    print(f'Valor del array en posicion {i},{new_arr}')\n",
    "print(f'Array modificado{new_arr}')\n",
    "    "
   ]
  },
  {
   "cell_type": "code",
   "execution_count": 32,
   "id": "d2fb5ae8",
   "metadata": {},
   "outputs": [
    {
     "name": "stdout",
     "output_type": "stream",
     "text": [
      "El valor de la integral es-0.19\n",
      "El avlor de la ecuación diferencial es 3.62\n"
     ]
    }
   ],
   "source": [
    "import numpy as np\n",
    "from scipy.integrate import quad\n",
    "\n",
    "a=0\n",
    "b=3\n",
    "\n",
    "x1=1\n",
    "def p(x):\n",
    "    return -x/(x+2)\n",
    "I,err=quad(p,a,x1)\n",
    "print(f'El valor de la integral es{I:1.2f}')\n",
    "y1 = b*np.exp(-I)\n",
    "\n",
    "print(f'El avlor de la ecuación diferencial es {y1:1.2f}')"
   ]
  },
  {
   "cell_type": "code",
   "execution_count": 42,
   "id": "e39d1640",
   "metadata": {},
   "outputs": [
    {
     "data": {
      "text/plain": [
       "[<matplotlib.lines.Line2D at 0x1b1d23c1c70>]"
      ]
     },
     "execution_count": 42,
     "metadata": {},
     "output_type": "execute_result"
    },
    {
     "data": {
      "image/png": "[encoded data removed]",
      "text/plain": [
       "<Figure size 432x288 with 1 Axes>"
      ]
     },
     "metadata": {
      "needs_background": "light"
     },
     "output_type": "display_data"
    }
   ],
   "source": [
    "a=0\n",
    "b=3\n",
    "\n",
    "x =np.linspace(0,3.5)\n",
    "y=np.zeros(x.shape)\n",
    "def p(x):\n",
    "    return -x/(x+2)\n",
    "for i,val in enumerate(x):\n",
    "    I,__=quad(p,a,val)\n",
    "    y[i]=b*np.exp(-I)\n",
    "    \n",
    "%matplotlib inline \n",
    "import matplotlib.pyplot as plt\n",
    "\n",
    "plt.plot(x,y)\n"
   ]
  },
  {
   "cell_type": "code",
   "execution_count": 60,
   "id": "5e9210b6",
   "metadata": {},
   "outputs": [
    {
     "data": {
      "text/plain": [
       "<matplotlib.legend.Legend at 0x1b1d705a040>"
      ]
     },
     "execution_count": 60,
     "metadata": {},
     "output_type": "execute_result"
    },
    {
     "data": {
      "image/png": "[encoded data removed]",
      "text/plain": [
       "<Figure size 432x288 with 1 Axes>"
      ]
     },
     "metadata": {
      "needs_background": "light"
     },
     "output_type": "display_data"
    }
   ],
   "source": [
    "derivada=np.gradient(y,x,edge_order=2)\n",
    "\n",
    "plt.plot(x,derivada,'ro--',label='numerico')\n",
    "plt.plot(x,x/(x+2)*y,'b',label='analitico')\n",
    "plt.legend()"
   ]
  },
  {
   "cell_type": "code",
   "execution_count": null,
   "id": "fa8ae461",
   "metadata": {},
   "outputs": [],
   "source": []
  }
 ],
 "metadata": {
  "kernelspec": {
   "display_name": "Python 3 (ipykernel)",
   "language": "python",
   "name": "python3"
  },
  "language_info": {
   "codemirror_mode": {
    "name": "ipython",
    "version": 3
   },
   "file_extension": ".py",
   "mimetype": "text/x-python",
   "name": "python",
   "nbconvert_exporter": "python",
   "pygments_lexer": "ipython3",
   "version": "3.9.12"
  }
 },
 "nbformat": 4,
 "nbformat_minor": 5
}
